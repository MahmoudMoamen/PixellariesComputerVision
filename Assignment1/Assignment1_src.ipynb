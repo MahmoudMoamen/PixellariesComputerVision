{
 "cells": [
  {
   "cell_type": "markdown",
   "metadata": {},
   "source": [
    "**CO-OCCURRENCE MATRIX & CONTRAST:**"
   ]
  },
  {
   "cell_type": "markdown",
   "metadata": {},
   "source": [
    "1. CALCULATE THE CO-OCCURRENCE MATRIX"
   ]
  },
  {
   "cell_type": "code",
   "execution_count": null,
   "metadata": {},
   "outputs": [],
   "source": [
    "#THIS CELL TO CALCULATE THE CO-OCCURRENCE MATRIX\n",
    "\n",
    "import numpy as np\n",
    "from PIL import Image\n",
    "\n",
    "def CalculateCoOccurrence(image_path):\n",
    "    # Load the grayscale image\n",
    "    image = Image.open(image_path).convert(\"L\")\n",
    "    image_array = np.array(image)\n",
    "\n",
    "    # Get the dimensions of the image\n",
    "    height, width = image_array.shape\n",
    "\n",
    "    # Initialize the co-occurrence matrix\n",
    "    North = 256\n",
    "    South = 256\n",
    "    co_occurrence_matrix = np.zeros((North, South), dtype=int)\n",
    "\n",
    "    # Calculate co-occurrence matrix using North/South orientation\n",
    "    for i in range(height):\n",
    "        if i == height-1:\n",
    "            break\n",
    "        for j in range(width):\n",
    "            pixel = image_array[i,j]\n",
    "            neighbor = image_array[i+1,j]\n",
    "            co_occurrence_matrix[pixel,neighbor] += 1\n",
    "\n",
    "    return co_occurrence_matrix\n",
    "\n",
    "#Testing:\n",
    "image_path = \"Images\\Image1.png\" #PUT THE NUMBER OF THE IMAGE YOU WANT TO LOAD HERE\n",
    "resulting_matrix = CalculateCoOccurrence(image_path)\n",
    "np.set_printoptions(threshold=np.inf, linewidth=np.inf)\n",
    "print(resulting_matrix)\n",
    "\n",
    "image_from_matrix = Image.fromarray(resulting_matrix)\n",
    "\n",
    "# Display the image\n",
    "image_from_matrix.show()\n"
   ]
  },
  {
   "cell_type": "code",
   "execution_count": null,
   "metadata": {},
   "outputs": [],
   "source": [
    "# #Testing for the Example in Lecture\n",
    "\n",
    "# import numpy as np\n",
    "# from PIL import Image\n",
    "\n",
    "# # Create a 4x5 2D array\n",
    "# image_array2 = [\n",
    "#     [4, 6, 8, 5, 4],\n",
    "#     [5, 5, 8, 7, 7],\n",
    "#     [6, 7, 7, 7, 9],\n",
    "#     [8, 8, 4, 8, 6],\n",
    "#     [9, 8, 9, 5, 6]\n",
    "# ]\n",
    "\n",
    "# # Define the dimensions matching the actual size of image_array2\n",
    "# North2 = 10\n",
    "# South2 = 10\n",
    "\n",
    "# co_occurrence_matrix2 = np.zeros((North2, South2), dtype=int)\n",
    "\n",
    "# for i in range(5):\n",
    "#     if i == 4:\n",
    "#         break\n",
    "#     for j in range(5):\n",
    "#         pixel = image_array2[i][j]\n",
    "#         neighbor = image_array2[i+1][j]\n",
    "#         co_occurrence_matrix2[pixel][neighbor] += 1\n",
    "\n",
    "# np.set_printoptions(threshold=np.inf, linewidth=np.inf)\n",
    "# print(co_occurrence_matrix2)"
   ]
  },
  {
   "cell_type": "markdown",
   "metadata": {},
   "source": [
    "2. CALCULATE CONTRAST"
   ]
  },
  {
   "cell_type": "code",
   "execution_count": null,
   "metadata": {},
   "outputs": [],
   "source": [
    "#THIS CELL TO CALCULATE THE CONTRAST\n",
    "\n",
    "def CalculateContrast(np_array):\n",
    "    contrast_numerator=0\n",
    "    for i in range(256):\n",
    "        for j in range(256):\n",
    "            contrast_numerator+=resulting_matrix[i,j]*abs(i-j)\n",
    "\n",
    "\n",
    "\n",
    "    contrast_denominator=0\n",
    "    for i in range(256):\n",
    "        for j in range(256):\n",
    "            contrast_denominator+=abs(i-j)\n",
    "\n",
    "\n",
    "    contrast=contrast_numerator/contrast_denominator\n",
    "\n",
    "    return contrast\n",
    "print_contrast=CalculateContrast(resulting_matrix)\n",
    "print(\"Contrast: \",print_contrast)"
   ]
  },
  {
   "cell_type": "markdown",
   "metadata": {},
   "source": [
    "**CALCULATE HISTOGRAMS:**"
   ]
  },
  {
   "cell_type": "markdown",
   "metadata": {},
   "source": [
    "1. CALCULATE IMAGE HISTOGRAM"
   ]
  },
  {
   "cell_type": "code",
   "execution_count": null,
   "metadata": {},
   "outputs": [],
   "source": [
    "#THIS CELL TO CALCULATE THE IMAGE HISTOGRAM"
   ]
  },
  {
   "cell_type": "markdown",
   "metadata": {},
   "source": [
    "2. CALCULATE CUMULATIVE HISTOGRAM"
   ]
  },
  {
   "cell_type": "code",
   "execution_count": null,
   "metadata": {},
   "outputs": [],
   "source": [
    "#THIS CELL TO CALCULATE THE CUMULATIVE HISTOGRAM"
   ]
  },
  {
   "cell_type": "markdown",
   "metadata": {},
   "source": [
    "3. CALCULATE COLOR COVERING PERCENTAGE"
   ]
  },
  {
   "cell_type": "code",
   "execution_count": null,
   "metadata": {},
   "outputs": [],
   "source": [
    "#THIS CELL TO CALCULATE THE COLOR COVERING PERCENTAGE"
   ]
  },
  {
   "cell_type": "markdown",
   "metadata": {},
   "source": [
    "**MODIFY HISTOGRAMS**"
   ]
  },
  {
   "cell_type": "markdown",
   "metadata": {},
   "source": [
    "1. CONTRAST STRETCHING"
   ]
  },
  {
   "cell_type": "code",
   "execution_count": null,
   "metadata": {},
   "outputs": [],
   "source": [
    "#THIS CELL TO DO CONTRAST STRETCHING"
   ]
  },
  {
   "cell_type": "markdown",
   "metadata": {},
   "source": [
    "2. HISTOGRAM EQUALIZATION"
   ]
  },
  {
   "cell_type": "code",
   "execution_count": null,
   "metadata": {},
   "outputs": [],
   "source": [
    "#THIS CELL TO HISTOGRAM EQUALIZATION"
   ]
  },
  {
   "cell_type": "markdown",
   "metadata": {},
   "source": [
    "3. GREY SCALE TRANSFORMATION"
   ]
  },
  {
   "cell_type": "code",
   "execution_count": null,
   "metadata": {},
   "outputs": [],
   "source": [
    "#THIS CELL TO DO GREY SCLAE TRANSFORMATION"
   ]
  }
 ],
 "metadata": {
  "kernelspec": {
   "display_name": "Python 3",
   "language": "python",
   "name": "python3"
  },
  "language_info": {
   "codemirror_mode": {
    "name": "ipython",
    "version": 3
   },
   "file_extension": ".py",
   "mimetype": "text/x-python",
   "name": "python",
   "nbconvert_exporter": "python",
   "pygments_lexer": "ipython3",
   "version": "3.9.0"
  },
  "orig_nbformat": 4
 },
 "nbformat": 4,
 "nbformat_minor": 2
}
