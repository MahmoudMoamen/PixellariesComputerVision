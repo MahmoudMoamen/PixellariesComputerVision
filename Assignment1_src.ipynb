{
 "cells": [
  {
   "cell_type": "markdown",
   "metadata": {},
   "source": [
    "**CO-OCCURRENCE MATRIX & CONTRAST:**"
   ]
  },
  {
   "cell_type": "markdown",
   "metadata": {},
   "source": [
    "1. CALCULATE THE CO-OCCURRENCE MATRIX"
   ]
  },
  {
   "cell_type": "code",
   "execution_count": null,
   "metadata": {},
   "outputs": [],
   "source": [
    "#THIS CELL TO CALCULATE THE CO-OCCURRENCE MATRIX\n",
    "\n",
    "# import libraries\n",
    "import numpy as np\n",
    "from PIL import Image\n",
    "\n",
    "#load Image\n",
    "loaded_image = Image.open(\"Images\\Image1.png\")\n",
    "#copy image\n",
    "copied_image = loaded_image.copy()\n",
    "\n",
    "#convert image to array\n",
    "image_array = np.asarray(copied_image)\n",
    "\n",
    "#initializing co occurrence matrix\n",
    "North=256\n",
    "South=256\n",
    "\n",
    "#North/South Orientation technique mentioned in class\n",
    "co_occurrence_matrix= np.zeros((North,South),dtype= int)\n",
    "for north_i in range(North):\n",
    "    for south_j in range(South):\n",
    "        pixel=image_array[north_i,south_j]\n",
    "        neighbor=image_array[north_i+1,south_j]\n",
    "        co_occurrence_matrix[pixel,neighbor]+=1\n",
    "\n",
    "np.set_printoptions(threshold=np.inf, linewidth=np.inf)\n",
    "print(co_occurrence_matrix)\n",
    "image_from_matrix = Image.fromarray(co_occurrence_matrix)\n",
    "\n",
    "# Display the image\n",
    "image_from_matrix.show()"
   ]
  },
  {
   "cell_type": "markdown",
   "metadata": {},
   "source": [
    "2. CALCULATE CONTRAST"
   ]
  },
  {
   "cell_type": "code",
   "execution_count": null,
   "metadata": {},
   "outputs": [],
   "source": [
    "#THIS CELL TO CALCULATE THE CONTRAST\n",
    "\n",
    "original_image_contrast=0\n",
    "for i in range(256):\n",
    "    for j in range(256):\n",
    "        image_array[i,j]\n",
    "        original_image_contrast+=image_array[i,j]*((i-j)**2)\n",
    "\n",
    "print(original_image_contrast)\n",
    "\n",
    "co_occurrence_matrix_contrast=0\n",
    "for i in range(256):\n",
    "    for j in range(256):\n",
    "        co_occurrence_matrix[i,j]\n",
    "        co_occurrence_matrix_contrast+=(co_occurrence_matrix[i,j]*((i-j)**2))\n",
    "\n",
    "print(co_occurrence_matrix_contrast)"
   ]
  },
  {
   "cell_type": "markdown",
   "metadata": {},
   "source": [
    "**CALCULATE HISTOGRAMS:**"
   ]
  },
  {
   "cell_type": "markdown",
   "metadata": {},
   "source": [
    "1. CALCULATE IMAGE HISTOGRAM"
   ]
  },
  {
   "cell_type": "code",
   "execution_count": null,
   "metadata": {},
   "outputs": [],
   "source": [
    "#THIS CELL TO CALCULATE THE IMAGE HISTOGRAM"
   ]
  },
  {
   "cell_type": "markdown",
   "metadata": {},
   "source": [
    "2. CALCULATE CUMULATIVE HISTOGRAM"
   ]
  },
  {
   "cell_type": "code",
   "execution_count": null,
   "metadata": {},
   "outputs": [],
   "source": [
    "#THIS CELL TO CALCULATE THE CUMULATIVE HISTOGRAM"
   ]
  },
  {
   "cell_type": "markdown",
   "metadata": {},
   "source": [
    "3. CALCULATE COLOR COVERING PERCENTAGE"
   ]
  },
  {
   "cell_type": "code",
   "execution_count": null,
   "metadata": {},
   "outputs": [],
   "source": [
    "#THIS CELL TO CALCULATE THE COLOR COVERING PERCENTAGE"
   ]
  },
  {
   "cell_type": "markdown",
   "metadata": {},
   "source": [
    "**MODIFY HISTOGRAMS**"
   ]
  },
  {
   "cell_type": "markdown",
   "metadata": {},
   "source": [
    "1. CONTRAST STRETCHING"
   ]
  },
  {
   "cell_type": "code",
   "execution_count": null,
   "metadata": {},
   "outputs": [],
   "source": [
    "#THIS CELL TO DO CONTRAST STRETCHING"
   ]
  },
  {
   "cell_type": "markdown",
   "metadata": {},
   "source": [
    "2. HISTOGRAM EQUALIZATION"
   ]
  },
  {
   "cell_type": "code",
   "execution_count": null,
   "metadata": {},
   "outputs": [],
   "source": [
    "#THIS CELL TO HISTOGRAM EQUALIZATION"
   ]
  },
  {
   "cell_type": "markdown",
   "metadata": {},
   "source": [
    "3. GREY SCALE TRANSFORMATION"
   ]
  },
  {
   "cell_type": "code",
   "execution_count": null,
   "metadata": {},
   "outputs": [],
   "source": [
    "#THIS CELL TO DO GREY SCLAE TRANSFORMATION"
   ]
  }
 ],
 "metadata": {
  "kernelspec": {
   "display_name": "Python 3",
   "language": "python",
   "name": "python3"
  },
  "language_info": {
   "codemirror_mode": {
    "name": "ipython",
    "version": 3
   },
   "file_extension": ".py",
   "mimetype": "text/x-python",
   "name": "python",
   "nbconvert_exporter": "python",
   "pygments_lexer": "ipython3",
   "version": "3.9.0"
  },
  "orig_nbformat": 4
 },
 "nbformat": 4,
 "nbformat_minor": 2
}
